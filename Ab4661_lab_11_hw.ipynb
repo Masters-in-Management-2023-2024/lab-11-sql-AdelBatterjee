{
  "cells": [
    {
      "cell_type": "markdown",
      "metadata": {
        "id": "oSa4JKS3BIZK"
      },
      "source": [
        "# Lab Exercise: SQL Analysis with Polars\n",
        "\n",
        "In this lab, you'll practice SQL queries using Polars' built-in SQL functionality. Complete each exercise by writing the appropriate SQL query."
      ]
    },
    {
      "cell_type": "code",
      "execution_count": 5,
      "metadata": {
        "id": "6p-Qkl5pBIZK",
        "colab": {
          "base_uri": "https://localhost:8080/"
        },
        "outputId": "d314ce29-5f47-434f-ee55-34ab257a1abb"
      },
      "outputs": [
        {
          "output_type": "stream",
          "name": "stdout",
          "text": [
            "Setup complete! Tables available:\n",
            "shape: (5, 1)\n",
            "┌──────────┐\n",
            "│ name     │\n",
            "│ ---      │\n",
            "│ str      │\n",
            "╞══════════╡\n",
            "│ airlines │\n",
            "│ airports │\n",
            "│ flights  │\n",
            "│ planes   │\n",
            "│ weather  │\n",
            "└──────────┘\n"
          ]
        },
        {
          "output_type": "stream",
          "name": "stderr",
          "text": [
            "/tmp/ipython-input-745455298.py:15: DeprecationWarning: The argument `eager_execution` for `SQLContext.__init__` is deprecated. It has been renamed to `eager`.\n",
            "  ctx = pl.SQLContext(\n"
          ]
        }
      ],
      "source": [
        "# Setup - Run this cell first\n",
        "import polars as pl\n",
        "\n",
        "# Load data\n",
        "airlines = pl.read_csv('https://raw.githubusercontent.com/philhetzel/opan5510-class11/refs/heads/main/data/nyc_airlines.csv')\n",
        "airports = pl.read_csv('https://raw.githubusercontent.com/philhetzel/opan5510-class11/refs/heads/main/data/nyc_airports.csv')\n",
        "flights = pl.read_csv('https://raw.githubusercontent.com/philhetzel/opan5510-class11/refs/heads/main/data/nyc_flights.csv', null_values=['NA'])\n",
        "planes = pl.read_csv('https://raw.githubusercontent.com/philhetzel/opan5510-class11/refs/heads/main/data/nyc_planes.csv', null_values=['NA'])\n",
        "weather = pl.read_csv('https://raw.githubusercontent.com/philhetzel/opan5510-class11/refs/heads/main/data/nyc_weather.csv', schema_overrides={'precip': pl.Float64})\n",
        "\n",
        "flights = flights.with_columns(pl.col(\"time_hour\").str.strptime(pl.Datetime))\n",
        "weather = weather.with_columns(pl.col(\"time_hour\").str.strptime(pl.Datetime))\n",
        "\n",
        "# Create SQL context\n",
        "ctx = pl.SQLContext(\n",
        "    airlines=airlines,\n",
        "    airports=airports,\n",
        "    flights=flights,\n",
        "    planes=planes,\n",
        "    weather=weather,\n",
        "    eager_execution=True\n",
        ")\n",
        "\n",
        "print(\"Setup complete! Tables available:\")\n",
        "print(ctx.execute(\"SHOW TABLES\"))"
      ]
    },
    {
      "cell_type": "markdown",
      "metadata": {
        "id": "uAa1g1B5BIZL"
      },
      "source": [
        "## Exercise 1: Basic Queries\n",
        "\n",
        "### 1.1 Find all unique carriers in the airlines table"
      ]
    },
    {
      "cell_type": "code",
      "execution_count": 9,
      "metadata": {
        "id": "cHrOVGtuBIZL",
        "colab": {
          "base_uri": "https://localhost:8080/"
        },
        "outputId": "41850d81-cf75-4902-f854-5396e01e1e3f"
      },
      "outputs": [
        {
          "output_type": "stream",
          "name": "stdout",
          "text": [
            "shape: (16, 1)\n",
            "┌─────────┐\n",
            "│ carrier │\n",
            "│ ---     │\n",
            "│ str     │\n",
            "╞═════════╡\n",
            "│ 9E      │\n",
            "│ AA      │\n",
            "│ AS      │\n",
            "│ B6      │\n",
            "│ DL      │\n",
            "│ …       │\n",
            "│ UA      │\n",
            "│ US      │\n",
            "│ VX      │\n",
            "│ WN      │\n",
            "│ YV      │\n",
            "└─────────┘\n"
          ]
        }
      ],
      "source": [
        "# Write your SQL query here\n",
        "result = ctx.execute(\"\"\"\n",
        "SELECT DISTINCT carrier\n",
        "FROM airlines\n",
        "\"\"\")\n",
        "# print(result)\n",
        "print(result)\n"
      ]
    },
    {
      "cell_type": "markdown",
      "metadata": {
        "id": "akwyMYeGBIZL"
      },
      "source": [
        "### 1.2 Find the top 10 destinations by number of flights"
      ]
    },
    {
      "cell_type": "code",
      "execution_count": 10,
      "metadata": {
        "id": "BSoEGMloBIZL",
        "colab": {
          "base_uri": "https://localhost:8080/"
        },
        "outputId": "3ef20782-060d-4183-85e1-54fc09988a77"
      },
      "outputs": [
        {
          "output_type": "stream",
          "name": "stdout",
          "text": [
            "shape: (10, 2)\n",
            "┌──────┬──────────────┐\n",
            "│ dest ┆ flight_count │\n",
            "│ ---  ┆ ---          │\n",
            "│ str  ┆ u32          │\n",
            "╞══════╪══════════════╡\n",
            "│ ORD  ┆ 17283        │\n",
            "│ ATL  ┆ 17215        │\n",
            "│ LAX  ┆ 16174        │\n",
            "│ BOS  ┆ 15508        │\n",
            "│ MCO  ┆ 14082        │\n",
            "│ CLT  ┆ 14064        │\n",
            "│ SFO  ┆ 13331        │\n",
            "│ FLL  ┆ 12055        │\n",
            "│ MIA  ┆ 11728        │\n",
            "│ DCA  ┆ 9705         │\n",
            "└──────┴──────────────┘\n"
          ]
        }
      ],
      "source": [
        "# Write your SQL query here\n",
        "result = ctx.execute(\"\"\"\n",
        "SELECT dest, COUNT(*) AS flight_count\n",
        "FROM flights\n",
        "GROUP BY dest\n",
        "ORDER BY flight_count DESC\n",
        "LIMIT 10\n",
        "\"\"\")\n",
        "\n",
        "# print(result)\n",
        "print(result)"
      ]
    },
    {
      "cell_type": "markdown",
      "metadata": {
        "id": "FYOyFYYUBIZL"
      },
      "source": [
        "### 1.3 Find all flights that departed more than 2 hours late (120 minutes)"
      ]
    },
    {
      "cell_type": "code",
      "execution_count": 11,
      "metadata": {
        "id": "FsvUoHeiBIZL",
        "colab": {
          "base_uri": "https://localhost:8080/"
        },
        "outputId": "e7fa82be-f466-463b-9aec-107df090a86f"
      },
      "outputs": [
        {
          "output_type": "stream",
          "name": "stdout",
          "text": [
            "shape: (9_723, 19)\n",
            "┌──────┬───────┬─────┬──────────┬───┬──────────┬──────┬────────┬─────────────────────────┐\n",
            "│ year ┆ month ┆ day ┆ dep_time ┆ … ┆ distance ┆ hour ┆ minute ┆ time_hour               │\n",
            "│ ---  ┆ ---   ┆ --- ┆ ---      ┆   ┆ ---      ┆ ---  ┆ ---    ┆ ---                     │\n",
            "│ i64  ┆ i64   ┆ i64 ┆ i64      ┆   ┆ i64      ┆ i64  ┆ i64    ┆ datetime[μs, UTC]       │\n",
            "╞══════╪═══════╪═════╪══════════╪═══╪══════════╪══════╪════════╪═════════════════════════╡\n",
            "│ 2013 ┆ 1     ┆ 1   ┆ 848      ┆ … ┆ 184      ┆ 18   ┆ 35     ┆ 2013-01-01 23:00:00 UTC │\n",
            "│ 2013 ┆ 1     ┆ 1   ┆ 957      ┆ … ┆ 200      ┆ 7    ┆ 33     ┆ 2013-01-01 12:00:00 UTC │\n",
            "│ 2013 ┆ 1     ┆ 1   ┆ 1114     ┆ … ┆ 1416     ┆ 9    ┆ 0      ┆ 2013-01-01 14:00:00 UTC │\n",
            "│ 2013 ┆ 1     ┆ 1   ┆ 1540     ┆ … ┆ 1598     ┆ 13   ┆ 38     ┆ 2013-01-01 18:00:00 UTC │\n",
            "│ 2013 ┆ 1     ┆ 1   ┆ 1815     ┆ … ┆ 1134     ┆ 13   ┆ 25     ┆ 2013-01-01 18:00:00 UTC │\n",
            "│ …    ┆ …     ┆ …   ┆ …        ┆ … ┆ …        ┆ …    ┆ …      ┆ …                       │\n",
            "│ 2013 ┆ 9     ┆ 30  ┆ 1823     ┆ … ┆ 765      ┆ 15   ┆ 45     ┆ 2013-09-30 19:00:00 UTC │\n",
            "│ 2013 ┆ 9     ┆ 30  ┆ 1951     ┆ … ┆ 708      ┆ 16   ┆ 49     ┆ 2013-09-30 20:00:00 UTC │\n",
            "│ 2013 ┆ 9     ┆ 30  ┆ 2053     ┆ … ┆ 746      ┆ 18   ┆ 15     ┆ 2013-09-30 22:00:00 UTC │\n",
            "│ 2013 ┆ 9     ┆ 30  ┆ 2159     ┆ … ┆ 301      ┆ 18   ┆ 45     ┆ 2013-09-30 22:00:00 UTC │\n",
            "│ 2013 ┆ 9     ┆ 30  ┆ 2235     ┆ … ┆ 944      ┆ 20   ┆ 1      ┆ 2013-10-01 00:00:00 UTC │\n",
            "└──────┴───────┴─────┴──────────┴───┴──────────┴──────┴────────┴─────────────────────────┘\n"
          ]
        }
      ],
      "source": [
        "# Write your SQL query here\n",
        "result = ctx.execute(\"\"\"\n",
        "SELECT *\n",
        "FROM flights\n",
        "WHERE dep_delay > 120\n",
        "\"\"\")\n",
        "\n",
        "# print(result)\n",
        "print(result)"
      ]
    },
    {
      "cell_type": "markdown",
      "metadata": {
        "id": "KuxxOg4sBIZL"
      },
      "source": [
        "## Exercise 2: Aggregation\n",
        "\n",
        "### 2.1 Calculate the average departure delay for each origin airport"
      ]
    },
    {
      "cell_type": "code",
      "execution_count": 12,
      "metadata": {
        "id": "0yZT-EcPBIZL",
        "colab": {
          "base_uri": "https://localhost:8080/"
        },
        "outputId": "12aa8920-b55a-4666-de9f-e70cc0caf2d3"
      },
      "outputs": [
        {
          "output_type": "stream",
          "name": "stdout",
          "text": [
            "shape: (3, 2)\n",
            "┌────────┬───────────┐\n",
            "│ origin ┆ avg_delay │\n",
            "│ ---    ┆ ---       │\n",
            "│ str    ┆ f64       │\n",
            "╞════════╪═══════════╡\n",
            "│ EWR    ┆ 15.107954 │\n",
            "│ JFK    ┆ 12.112159 │\n",
            "│ LGA    ┆ 10.346876 │\n",
            "└────────┴───────────┘\n"
          ]
        }
      ],
      "source": [
        "# Write your SQL query here\n",
        "result = ctx.execute(\"\"\"\n",
        "SELECT\n",
        "    origin,\n",
        "    AVG(dep_delay) as avg_delay\n",
        "FROM flights\n",
        "WHERE dep_delay IS NOT NULL\n",
        "GROUP BY origin\n",
        "ORDER BY avg_delay DESC\n",
        "\"\"\")\n",
        "\n",
        "print(result)"
      ]
    },
    {
      "cell_type": "markdown",
      "metadata": {
        "id": "gf1s1MgdBIZL"
      },
      "source": [
        "### 2.2 Find the busiest month of the year\n",
        "\n",
        "Count the number of flights per month and find which month has the most flights."
      ]
    },
    {
      "cell_type": "code",
      "execution_count": 13,
      "metadata": {
        "id": "VITSE1yRBIZL",
        "colab": {
          "base_uri": "https://localhost:8080/"
        },
        "outputId": "60d9c66f-3db4-44ba-a254-6a5d3897fd0d"
      },
      "outputs": [
        {
          "output_type": "stream",
          "name": "stdout",
          "text": [
            "shape: (1, 2)\n",
            "┌───────┬──────────────┐\n",
            "│ month ┆ flight_count │\n",
            "│ ---   ┆ ---          │\n",
            "│ i64   ┆ u32          │\n",
            "╞═══════╪══════════════╡\n",
            "│ 7     ┆ 29425        │\n",
            "└───────┴──────────────┘\n"
          ]
        }
      ],
      "source": [
        "# First, let's check what columns are available\n",
        "result = ctx.execute(\"\"\"\n",
        "    SELECT *\n",
        "    FROM flights\n",
        "    LIMIT 5\n",
        "\"\"\")\n",
        "# print(result)\n",
        "\n",
        "# Now write your query to find busiest month\n",
        "result = ctx.execute(\"\"\"\n",
        "SELECT month, COUNT(*) AS flight_count\n",
        "FROM flights\n",
        "GROUP BY month\n",
        "ORDER BY flight_count DESC\n",
        "LIMIT 1\n",
        "\"\"\")\n",
        "\n",
        "\n",
        "\n",
        "# print(result)\n",
        "\n",
        "print(result)"
      ]
    },
    {
      "cell_type": "markdown",
      "metadata": {
        "id": "HoFhQMSQBIZL"
      },
      "source": [
        "### 2.3 Calculate the on-time performance rate for each carrier\n",
        "\n",
        "Consider a flight on-time if the departure delay is <= 15 minutes."
      ]
    },
    {
      "cell_type": "code",
      "execution_count": 14,
      "metadata": {
        "id": "tCbHZCqbBIZL",
        "colab": {
          "base_uri": "https://localhost:8080/"
        },
        "outputId": "fb445a43-c2b3-421f-c0f6-f77c86d49827"
      },
      "outputs": [
        {
          "output_type": "stream",
          "name": "stdout",
          "text": [
            "shape: (16, 2)\n",
            "┌─────────┬──────────────┐\n",
            "│ carrier ┆ on_time_rate │\n",
            "│ ---     ┆ ---          │\n",
            "│ str     ┆ f64          │\n",
            "╞═════════╪══════════════╡\n",
            "│ HA      ┆ 92.982456    │\n",
            "│ US      ┆ 87.822674    │\n",
            "│ AS      ┆ 86.797753    │\n",
            "│ AA      ┆ 84.071293    │\n",
            "│ DL      ┆ 83.681246    │\n",
            "│ …       ┆ …            │\n",
            "│ FL      ┆ 73.32915     │\n",
            "│ WN      ┆ 73.102706    │\n",
            "│ F9      ┆ 71.847507    │\n",
            "│ YV      ┆ 71.376147    │\n",
            "│ EV      ┆ 69.538126    │\n",
            "└─────────┴──────────────┘\n"
          ]
        }
      ],
      "source": [
        "# Write your SQL query here\n",
        "result = ctx.execute(\"\"\"\n",
        "SELECT\n",
        "    carrier,\n",
        "    CAST(SUM(CASE WHEN dep_delay <= 15 THEN 1 ELSE 0 END) AS REAL) * 100 / COUNT(*) AS on_time_rate\n",
        "FROM flights\n",
        "WHERE dep_delay IS NOT NULL\n",
        "GROUP BY carrier\n",
        "ORDER BY on_time_rate DESC\n",
        "\"\"\")\n",
        "\n",
        "# print(result)\n",
        "print(result)"
      ]
    },
    {
      "cell_type": "markdown",
      "metadata": {
        "id": "QB4EjlZVBIZL"
      },
      "source": [
        "## Exercise 3: Joins\n",
        "\n",
        "### 3.1 List all flights with their airline names (not just carrier codes)\n",
        "\n",
        "Show the first 20 flights with carrier code, airline name, flight number, origin, and destination."
      ]
    },
    {
      "cell_type": "code",
      "execution_count": 15,
      "metadata": {
        "id": "bcKhUGmWBIZL",
        "colab": {
          "base_uri": "https://localhost:8080/"
        },
        "outputId": "ee689c4b-eef8-4671-fa26-1edb7056c82e"
      },
      "outputs": [
        {
          "output_type": "stream",
          "name": "stdout",
          "text": [
            "shape: (20, 5)\n",
            "┌─────────┬────────────────────────┬────────┬────────┬──────┐\n",
            "│ carrier ┆ airline_name           ┆ flight ┆ origin ┆ dest │\n",
            "│ ---     ┆ ---                    ┆ ---    ┆ ---    ┆ ---  │\n",
            "│ str     ┆ str                    ┆ i64    ┆ str    ┆ str  │\n",
            "╞═════════╪════════════════════════╪════════╪════════╪══════╡\n",
            "│ UA      ┆ United Air Lines Inc.  ┆ 1545   ┆ EWR    ┆ IAH  │\n",
            "│ UA      ┆ United Air Lines Inc.  ┆ 1714   ┆ LGA    ┆ IAH  │\n",
            "│ AA      ┆ American Airlines Inc. ┆ 1141   ┆ JFK    ┆ MIA  │\n",
            "│ B6      ┆ JetBlue Airways        ┆ 725    ┆ JFK    ┆ BQN  │\n",
            "│ DL      ┆ Delta Air Lines Inc.   ┆ 461    ┆ LGA    ┆ ATL  │\n",
            "│ …       ┆ …                      ┆ …      ┆ …      ┆ …    │\n",
            "│ B6      ┆ JetBlue Airways        ┆ 1806   ┆ JFK    ┆ BOS  │\n",
            "│ UA      ┆ United Air Lines Inc.  ┆ 1187   ┆ EWR    ┆ LAS  │\n",
            "│ B6      ┆ JetBlue Airways        ┆ 371    ┆ LGA    ┆ FLL  │\n",
            "│ MQ      ┆ Envoy Air              ┆ 4650   ┆ LGA    ┆ ATL  │\n",
            "│ B6      ┆ JetBlue Airways        ┆ 343    ┆ EWR    ┆ PBI  │\n",
            "└─────────┴────────────────────────┴────────┴────────┴──────┘\n"
          ]
        }
      ],
      "source": [
        "# Write your SQL query here\n",
        "result = ctx.execute(\"\"\"\n",
        "SELECT\n",
        "    f.carrier,\n",
        "    a.name AS airline_name,\n",
        "    f.flight,\n",
        "    f.origin,\n",
        "    f.dest\n",
        "FROM flights AS f\n",
        "JOIN airlines AS a\n",
        "    ON f.carrier = a.carrier\n",
        "LIMIT 20\n",
        "\"\"\")\n",
        "\n",
        "# print(result)\n",
        "print(result)"
      ]
    },
    {
      "cell_type": "markdown",
      "metadata": {
        "id": "icGmfemRBIZL"
      },
      "source": [
        "### 3.2 Find the average age of planes for each carrier\n",
        "\n",
        "Hint: The planes table has a `year` column for manufacture year. Calculate age based on 2013."
      ]
    },
    {
      "cell_type": "code",
      "execution_count": 17,
      "metadata": {
        "id": "VdeaLMkuBIZL",
        "colab": {
          "base_uri": "https://localhost:8080/"
        },
        "outputId": "2a127390-466d-40d1-a664-50cc11dbe1b4"
      },
      "outputs": [
        {
          "output_type": "stream",
          "name": "stdout",
          "text": [
            "shape: (16, 2)\n",
            "┌─────────┬───────────────────┐\n",
            "│ carrier ┆ average_plane_age │\n",
            "│ ---     ┆ ---               │\n",
            "│ str     ┆ f64               │\n",
            "╞═════════╪═══════════════════╡\n",
            "│ MQ      ┆ 35.319            │\n",
            "│ AA      ┆ 25.869426         │\n",
            "│ DL      ┆ 16.372169         │\n",
            "│ UA      ┆ 13.207691         │\n",
            "│ FL      ┆ 11.385829         │\n",
            "│ …       ┆ …                 │\n",
            "│ B6      ┆ 6.686702          │\n",
            "│ F9      ┆ 4.87874           │\n",
            "│ VX      ┆ 4.473643          │\n",
            "│ AS      ┆ 3.33662           │\n",
            "│ HA      ┆ 1.548387          │\n",
            "└─────────┴───────────────────┘\n"
          ]
        }
      ],
      "source": [
        "# Write your SQL query here\n",
        "result = ctx.execute(\"\"\"\n",
        "SELECT\n",
        "    f.carrier,\n",
        "    AVG(2013 - p.year) AS average_plane_age\n",
        "FROM flights AS f\n",
        "JOIN planes AS p\n",
        "    ON f.tailnum = p.tailnum\n",
        "WHERE p.year IS NOT NULL\n",
        "GROUP BY f.carrier\n",
        "ORDER BY average_plane_age DESC\n",
        "\"\"\")\n",
        "\n",
        "\n",
        "# print(result)\n",
        "print(result)"
      ]
    },
    {
      "cell_type": "markdown",
      "metadata": {
        "id": "XnQv2D1sBIZL"
      },
      "source": [
        "### 3.3 Find flights that experienced both departure delays and bad weather\n",
        "\n",
        "Join flights with weather data and find flights where departure delay > 30 minutes and either wind_speed > 20 or precip > 0.1"
      ]
    },
    {
      "cell_type": "code",
      "execution_count": 18,
      "metadata": {
        "id": "wf1_VkwiBIZL",
        "colab": {
          "base_uri": "https://localhost:8080/"
        },
        "outputId": "978fcd43-5eba-4e68-b0af-571e7ca913fd"
      },
      "outputs": [
        {
          "output_type": "stream",
          "name": "stdout",
          "text": [
            "shape: (4_938, 29)\n",
            "┌──────┬───────┬─────┬──────────┬───┬────────┬──────────┬───────┬─────────────────────────┐\n",
            "│ year ┆ month ┆ day ┆ dep_time ┆ … ┆ precip ┆ pressure ┆ visib ┆ weather_time_hour       │\n",
            "│ ---  ┆ ---   ┆ --- ┆ ---      ┆   ┆ ---    ┆ ---      ┆ ---   ┆ ---                     │\n",
            "│ i64  ┆ i64   ┆ i64 ┆ i64      ┆   ┆ f64    ┆ f64      ┆ f64   ┆ datetime[μs, UTC]       │\n",
            "╞══════╪═══════╪═════╪══════════╪═══╪════════╪══════════╪═══════╪═════════════════════════╡\n",
            "│ 2013 ┆ 1     ┆ 1   ┆ 2217     ┆ … ┆ 0.0    ┆ 1015.3   ┆ 10.0  ┆ 2013-01-02 02:00:00 UTC │\n",
            "│ 2013 ┆ 1     ┆ 1   ┆ 2326     ┆ … ┆ 0.0    ┆ 1015.3   ┆ 10.0  ┆ 2013-01-02 02:00:00 UTC │\n",
            "│ 2013 ┆ 1     ┆ 4   ┆ 1238     ┆ … ┆ 0.0    ┆ 1016.9   ┆ 10.0  ┆ 2013-01-04 16:00:00 UTC │\n",
            "│ 2013 ┆ 1     ┆ 4   ┆ 1400     ┆ … ┆ 0.0    ┆ 1015.1   ┆ 10.0  ┆ 2013-01-04 18:00:00 UTC │\n",
            "│ 2013 ┆ 1     ┆ 4   ┆ 1455     ┆ … ┆ 0.0    ┆ 1014.9   ┆ 10.0  ┆ 2013-01-04 19:00:00 UTC │\n",
            "│ …    ┆ …     ┆ …   ┆ …        ┆ … ┆ …      ┆ …        ┆ …     ┆ …                       │\n",
            "│ 2013 ┆ 9     ┆ 22  ┆ 1540     ┆ … ┆ 0.0    ┆ 1007.7   ┆ 10.0  ┆ 2013-09-22 18:00:00 UTC │\n",
            "│ 2013 ┆ 9     ┆ 22  ┆ 1957     ┆ … ┆ 0.0    ┆ 1009.5   ┆ 10.0  ┆ 2013-09-22 22:00:00 UTC │\n",
            "│ 2013 ┆ 9     ┆ 22  ┆ 2104     ┆ … ┆ 0.0    ┆ 1011.4   ┆ 10.0  ┆ 2013-09-23 00:00:00 UTC │\n",
            "│ 2013 ┆ 9     ┆ 22  ┆ 2111     ┆ … ┆ 0.0    ┆ 1011.4   ┆ 10.0  ┆ 2013-09-23 00:00:00 UTC │\n",
            "│ 2013 ┆ 9     ┆ 22  ┆ 2130     ┆ … ┆ 0.0    ┆ 1011.4   ┆ 10.0  ┆ 2013-09-23 00:00:00 UTC │\n",
            "└──────┴───────┴─────┴──────────┴───┴────────┴──────────┴───────┴─────────────────────────┘\n"
          ]
        }
      ],
      "source": [
        "# First, explore the weather table structure\n",
        "result = ctx.execute(\"\"\"\n",
        "    SELECT *\n",
        "    FROM weather\n",
        "    LIMIT 5\n",
        "\"\"\")\n",
        "# print(result)\n",
        "\n",
        "# Now write your join query\n",
        "result = ctx.execute(\"\"\"\n",
        "SELECT\n",
        "    f.*,\n",
        "    w.temp,\n",
        "    w.dewp,\n",
        "    w.humid,\n",
        "    w.wind_dir,\n",
        "    w.wind_speed,\n",
        "    w.wind_gust,\n",
        "    w.precip,\n",
        "    w.pressure,\n",
        "    w.visib,\n",
        "    w.time_hour AS weather_time_hour\n",
        "FROM flights AS f\n",
        "JOIN weather AS w\n",
        "    ON f.origin = w.origin AND f.time_hour = w.time_hour\n",
        "WHERE f.dep_delay > 30\n",
        "  AND (w.wind_speed > 20 OR w.precip > 0.1)\n",
        "\"\"\")\n",
        "\n",
        "# print(result)\n",
        "print (result)"
      ]
    },
    {
      "cell_type": "markdown",
      "metadata": {
        "id": "6Rg2QWFfBIZL"
      },
      "source": [
        "## Exercise 4: Advanced Queries\n",
        "\n",
        "### 4.1 Find the most popular aircraft types (by number of flights)\n",
        "\n",
        "Join flights with planes to get manufacturer and model information. Show top 10."
      ]
    },
    {
      "cell_type": "code",
      "execution_count": 19,
      "metadata": {
        "id": "LVC27v3WBIZM",
        "colab": {
          "base_uri": "https://localhost:8080/"
        },
        "outputId": "7f6866f9-2ad4-4f33-fd35-a897cc69450f"
      },
      "outputs": [
        {
          "output_type": "stream",
          "name": "stdout",
          "text": [
            "shape: (10, 3)\n",
            "┌───────────────────────────────┬─────────────────┬──────────────┐\n",
            "│ manufacturer                  ┆ model           ┆ flight_count │\n",
            "│ ---                           ┆ ---             ┆ ---          │\n",
            "│ str                           ┆ str             ┆ u32          │\n",
            "╞═══════════════════════════════╪═════════════════╪══════════════╡\n",
            "│ AIRBUS                        ┆ A320-232        ┆ 31278        │\n",
            "│ EMBRAER                       ┆ EMB-145LR       ┆ 28027        │\n",
            "│ EMBRAER                       ┆ ERJ 190-100 IGW ┆ 23716        │\n",
            "│ AIRBUS INDUSTRIE              ┆ A320-232        ┆ 14553        │\n",
            "│ EMBRAER                       ┆ EMB-145XR       ┆ 14051        │\n",
            "│ BOEING                        ┆ 737-824         ┆ 13809        │\n",
            "│ BOMBARDIER INC                ┆ CL-600-2D24     ┆ 11807        │\n",
            "│ BOEING                        ┆ 737-7H4         ┆ 10389        │\n",
            "│ BOEING                        ┆ 757-222         ┆ 9150         │\n",
            "│ MCDONNELL DOUGLAS AIRCRAFT CO ┆ MD-88           ┆ 8932         │\n",
            "└───────────────────────────────┴─────────────────┴──────────────┘\n"
          ]
        }
      ],
      "source": [
        "# Write your SQL query here\n",
        "result = ctx.execute(\"\"\"\n",
        "SELECT\n",
        "    p.manufacturer,\n",
        "    p.model,\n",
        "    COUNT(*) AS flight_count\n",
        "FROM flights AS f\n",
        "JOIN planes AS p\n",
        "    ON f.tailnum = p.tailnum\n",
        "WHERE p.manufacturer IS NOT NULL AND p.model IS NOT NULL\n",
        "GROUP BY p.manufacturer, p.model\n",
        "ORDER BY flight_count DESC\n",
        "LIMIT 10\n",
        "\"\"\")\n",
        "\n",
        "# print(result)\n",
        "print(result)"
      ]
    },
    {
      "cell_type": "markdown",
      "metadata": {
        "id": "guFYoSQgBIZM"
      },
      "source": [
        "### 4.2 Analyze route performance\n",
        "\n",
        "Find the top 10 routes (origin-destination pairs) with:\n",
        "- Total number of flights\n",
        "- Average departure delay\n",
        "- Percentage of flights delayed more than 30 minutes\n",
        "\n",
        "Include airport names, not just codes."
      ]
    },
    {
      "cell_type": "code",
      "execution_count": 23,
      "metadata": {
        "id": "pDMzKIwuBIZM",
        "colab": {
          "base_uri": "https://localhost:8080/"
        },
        "outputId": "862ce6d5-d67a-4fa4-c550-a8cd8bde48d0"
      },
      "outputs": [
        {
          "output_type": "stream",
          "name": "stdout",
          "text": [
            "shape: (10, 5)\n",
            "┌────────────────┬─────────────────────┬───────────────┬─────────────────────┬─────────────────────┐\n",
            "│ origin_airport ┆ destination_airport ┆ total_flights ┆ average_departure_d ┆ percentage_delayed_ │\n",
            "│ ---            ┆ ---                 ┆ ---           ┆ elay                ┆ more_than_3…        │\n",
            "│ str            ┆ str                 ┆ u32           ┆ ---                 ┆ ---                 │\n",
            "│                ┆                     ┆               ┆ f64                 ┆ f64                 │\n",
            "╞════════════════╪═════════════════════╪═══════════════╪═════════════════════╪═════════════════════╡\n",
            "│ John F Kennedy ┆ Los Angeles Intl    ┆ 11196         ┆ 8.522508            ┆ 9.88746             │\n",
            "│ Intl           ┆                     ┆               ┆                     ┆                     │\n",
            "│ La Guardia     ┆ Hartsfield Jackson  ┆ 10082         ┆ 11.448621           ┆ 12.467764           │\n",
            "│                ┆ Atlanta Int…        ┆               ┆                     ┆                     │\n",
            "│ La Guardia     ┆ Chicago Ohare Intl  ┆ 8548          ┆ 10.740758           ┆ 13.827796           │\n",
            "│ John F Kennedy ┆ San Francisco Intl  ┆ 8138          ┆ 11.952691           ┆ 12.214303           │\n",
            "│ Intl           ┆                     ┆               ┆                     ┆                     │\n",
            "│ La Guardia     ┆ Charlotte Douglas   ┆ 5969          ┆ 8.965321            ┆ 12.347127           │\n",
            "│                ┆ Intl                ┆               ┆                     ┆                     │\n",
            "│ Newark Liberty ┆ Chicago Ohare Intl  ┆ 5851          ┆ 14.644163           ┆ 16.680909           │\n",
            "│ Intl           ┆                     ┆               ┆                     ┆                     │\n",
            "│ John F Kennedy ┆ General Edward      ┆ 5786          ┆ 11.694953           ┆ 14.033875           │\n",
            "│ Intl           ┆ Lawrence Logan …    ┆               ┆                     ┆                     │\n",
            "│ La Guardia     ┆ Miami Intl          ┆ 5725          ┆ 7.361747            ┆ 9.554585            │\n",
            "│ John F Kennedy ┆ Orlando Intl        ┆ 5434          ┆ 10.601583           ┆ 12.789842           │\n",
            "│ Intl           ┆                     ┆               ┆                     ┆                     │\n",
            "│ Newark Liberty ┆ General Edward      ┆ 5251          ┆ 12.54561            ┆ 15.120929           │\n",
            "│ Intl           ┆ Lawrence Logan …    ┆               ┆                     ┆                     │\n",
            "└────────────────┴─────────────────────┴───────────────┴─────────────────────┴─────────────────────┘\n"
          ]
        }
      ],
      "source": [
        "# Write your SQL query here\n",
        "result = ctx.execute(\"\"\"\n",
        "WITH RouteData AS (\n",
        "    SELECT\n",
        "        o.name AS origin_airport,\n",
        "        d.name AS destination_airport,\n",
        "        f.dep_delay\n",
        "    FROM flights AS f\n",
        "    JOIN airports AS o ON f.origin = o.faa\n",
        "    JOIN airports AS d ON f.dest = d.faa\n",
        "    WHERE f.dep_delay IS NOT NULL\n",
        ")\n",
        "SELECT\n",
        "    origin_airport,\n",
        "    destination_airport,\n",
        "    COUNT(*) AS total_flights,\n",
        "    AVG(dep_delay) AS average_departure_delay,\n",
        "    CAST(SUM(CASE WHEN dep_delay > 30 THEN 1 ELSE 0 END) AS REAL) * 100 / COUNT(*) AS percentage_delayed_more_than_30_min\n",
        "FROM RouteData\n",
        "GROUP BY origin_airport, destination_airport\n",
        "ORDER BY total_flights DESC\n",
        "LIMIT 10\n",
        "\"\"\")\n",
        "\n",
        "print(result)"
      ]
    },
    {
      "cell_type": "code",
      "execution_count": null,
      "metadata": {
        "id": "-O5yoqESBIZM"
      },
      "outputs": [],
      "source": [
        "# Write your SQL query here\n",
        "result = ctx.execute(\"\"\"\n",
        "-- Your query here\n",
        "\"\"\")\n",
        "\n",
        "# print(result)"
      ]
    },
    {
      "cell_type": "markdown",
      "metadata": {
        "id": "xR6Ho31mBIZM"
      },
      "source": [
        "## Bonus: Compare with Polars\n",
        "\n",
        "### Choose one of the queries above and implement it using Polars\n",
        "\n",
        "This will help you understand the relationship between SQL and Polars operations."
      ]
    },
    {
      "cell_type": "code",
      "execution_count": 21,
      "metadata": {
        "id": "oGDW805bBIZM",
        "colab": {
          "base_uri": "https://localhost:8080/"
        },
        "outputId": "3d7ca60c-f433-4c36-c152-7e5b6ef4de64"
      },
      "outputs": [
        {
          "output_type": "stream",
          "name": "stdout",
          "text": [
            "SQL Result:\n",
            "shape: (3, 2)\n",
            "┌────────┬───────────┐\n",
            "│ origin ┆ avg_delay │\n",
            "│ ---    ┆ ---       │\n",
            "│ str    ┆ f64       │\n",
            "╞════════╪═══════════╡\n",
            "│ EWR    ┆ 15.107954 │\n",
            "│ JFK    ┆ 12.112159 │\n",
            "│ LGA    ┆ 10.346876 │\n",
            "└────────┴───────────┘\n",
            "\n",
            "Polars Result:\n",
            "shape: (3, 2)\n",
            "┌────────┬───────────┐\n",
            "│ origin ┆ avg_delay │\n",
            "│ ---    ┆ ---       │\n",
            "│ str    ┆ f64       │\n",
            "╞════════╪═══════════╡\n",
            "│ EWR    ┆ 15.107954 │\n",
            "│ JFK    ┆ 12.112159 │\n",
            "│ LGA    ┆ 10.346876 │\n",
            "└────────┴───────────┘\n"
          ]
        }
      ],
      "source": [
        "# Example: Let's implement Exercise 2.1 (average delay by origin) in Polars\n",
        "\n",
        "# SQL version (for reference)\n",
        "sql_result = ctx.execute(\"\"\"\n",
        "    SELECT\n",
        "        origin,\n",
        "        AVG(dep_delay) as avg_delay\n",
        "    FROM flights\n",
        "    WHERE dep_delay IS NOT NULL\n",
        "    GROUP BY origin\n",
        "    ORDER BY avg_delay DESC\n",
        "\"\"\")\n",
        "\n",
        "# Polars version\n",
        "polars_result = (\n",
        "    flights\n",
        "    .filter(pl.col('dep_delay').is_not_null())\n",
        "    .group_by('origin')\n",
        "    .agg(pl.col('dep_delay').mean().alias('avg_delay'))\n",
        "    .sort('avg_delay', descending=True)\n",
        ")\n",
        "\n",
        "print(\"SQL Result:\")\n",
        "print(sql_result)\n",
        "print(\"\\nPolars Result:\")\n",
        "print(polars_result)\n",
        "\n",
        "# Now implement one of your own queries in Polars below:\n",
        "# Your Polars code here"
      ]
    },
    {
      "cell_type": "code",
      "source": [
        "# Polars\n",
        "polars_result_route_performance = (\n",
        "    flights\n",
        "    .filter(pl.col('dep_delay').is_not_null())\n",
        "    .join(airports.select(['faa', pl.col('name').alias('origin_airport')]), left_on='origin', right_on='faa')\n",
        "    .join(airports.select(['faa', pl.col('name').alias('destination_airport')]), left_on='dest', right_on='faa')\n",
        "    .group_by(['origin_airport', 'destination_airport'])\n",
        "    .agg([\n",
        "        pl.len().alias('total_flights'),\n",
        "        pl.col('dep_delay').mean().alias('average_departure_delay'),\n",
        "        (pl.col('dep_delay').gt(30).sum().cast(pl.Float64) * 100 / pl.len()).alias('percentage_delayed_more_than_30_min')\n",
        "    ])\n",
        "    .sort('total_flights', descending=True)\n",
        "    .limit(10)\n",
        ")\n",
        "\n",
        "\n",
        "print(\"SQL Result (Route Performance):\")\n",
        "print(result)\n",
        "print(\"\\nPolars Result (Route Performance):\")\n",
        "print(polars_result_route_performance)"
      ],
      "metadata": {
        "colab": {
          "base_uri": "https://localhost:8080/"
        },
        "id": "EQwXeNeTGEbS",
        "outputId": "736a14c9-39dd-4c07-c478-5ec05be70147"
      },
      "execution_count": 25,
      "outputs": [
        {
          "output_type": "stream",
          "name": "stdout",
          "text": [
            "SQL Result (Route Performance):\n",
            "shape: (10, 5)\n",
            "┌────────────────┬─────────────────────┬───────────────┬─────────────────────┬─────────────────────┐\n",
            "│ origin_airport ┆ destination_airport ┆ total_flights ┆ average_departure_d ┆ percentage_delayed_ │\n",
            "│ ---            ┆ ---                 ┆ ---           ┆ elay                ┆ more_than_3…        │\n",
            "│ str            ┆ str                 ┆ u32           ┆ ---                 ┆ ---                 │\n",
            "│                ┆                     ┆               ┆ f64                 ┆ f64                 │\n",
            "╞════════════════╪═════════════════════╪═══════════════╪═════════════════════╪═════════════════════╡\n",
            "│ John F Kennedy ┆ Los Angeles Intl    ┆ 11196         ┆ 8.522508            ┆ 9.88746             │\n",
            "│ Intl           ┆                     ┆               ┆                     ┆                     │\n",
            "│ La Guardia     ┆ Hartsfield Jackson  ┆ 10082         ┆ 11.448621           ┆ 12.467764           │\n",
            "│                ┆ Atlanta Int…        ┆               ┆                     ┆                     │\n",
            "│ La Guardia     ┆ Chicago Ohare Intl  ┆ 8548          ┆ 10.740758           ┆ 13.827796           │\n",
            "│ John F Kennedy ┆ San Francisco Intl  ┆ 8138          ┆ 11.952691           ┆ 12.214303           │\n",
            "│ Intl           ┆                     ┆               ┆                     ┆                     │\n",
            "│ La Guardia     ┆ Charlotte Douglas   ┆ 5969          ┆ 8.965321            ┆ 12.347127           │\n",
            "│                ┆ Intl                ┆               ┆                     ┆                     │\n",
            "│ Newark Liberty ┆ Chicago Ohare Intl  ┆ 5851          ┆ 14.644163           ┆ 16.680909           │\n",
            "│ Intl           ┆                     ┆               ┆                     ┆                     │\n",
            "│ John F Kennedy ┆ General Edward      ┆ 5786          ┆ 11.694953           ┆ 14.033875           │\n",
            "│ Intl           ┆ Lawrence Logan …    ┆               ┆                     ┆                     │\n",
            "│ La Guardia     ┆ Miami Intl          ┆ 5725          ┆ 7.361747            ┆ 9.554585            │\n",
            "│ John F Kennedy ┆ Orlando Intl        ┆ 5434          ┆ 10.601583           ┆ 12.789842           │\n",
            "│ Intl           ┆                     ┆               ┆                     ┆                     │\n",
            "│ Newark Liberty ┆ General Edward      ┆ 5251          ┆ 12.54561            ┆ 15.120929           │\n",
            "│ Intl           ┆ Lawrence Logan …    ┆               ┆                     ┆                     │\n",
            "└────────────────┴─────────────────────┴───────────────┴─────────────────────┴─────────────────────┘\n",
            "\n",
            "Polars Result (Route Performance):\n",
            "shape: (10, 5)\n",
            "┌────────────────┬─────────────────────┬───────────────┬─────────────────────┬─────────────────────┐\n",
            "│ origin_airport ┆ destination_airport ┆ total_flights ┆ average_departure_d ┆ percentage_delayed_ │\n",
            "│ ---            ┆ ---                 ┆ ---           ┆ elay                ┆ more_than_3…        │\n",
            "│ str            ┆ str                 ┆ u32           ┆ ---                 ┆ ---                 │\n",
            "│                ┆                     ┆               ┆ f64                 ┆ f64                 │\n",
            "╞════════════════╪═════════════════════╪═══════════════╪═════════════════════╪═════════════════════╡\n",
            "│ John F Kennedy ┆ Los Angeles Intl    ┆ 11196         ┆ 8.522508            ┆ 9.88746             │\n",
            "│ Intl           ┆                     ┆               ┆                     ┆                     │\n",
            "│ La Guardia     ┆ Hartsfield Jackson  ┆ 10082         ┆ 11.448621           ┆ 12.467764           │\n",
            "│                ┆ Atlanta Int…        ┆               ┆                     ┆                     │\n",
            "│ La Guardia     ┆ Chicago Ohare Intl  ┆ 8548          ┆ 10.740758           ┆ 13.827796           │\n",
            "│ John F Kennedy ┆ San Francisco Intl  ┆ 8138          ┆ 11.952691           ┆ 12.214303           │\n",
            "│ Intl           ┆                     ┆               ┆                     ┆                     │\n",
            "│ La Guardia     ┆ Charlotte Douglas   ┆ 5969          ┆ 8.965321            ┆ 12.347127           │\n",
            "│                ┆ Intl                ┆               ┆                     ┆                     │\n",
            "│ Newark Liberty ┆ Chicago Ohare Intl  ┆ 5851          ┆ 14.644163           ┆ 16.680909           │\n",
            "│ Intl           ┆                     ┆               ┆                     ┆                     │\n",
            "│ John F Kennedy ┆ General Edward      ┆ 5786          ┆ 11.694953           ┆ 14.033875           │\n",
            "│ Intl           ┆ Lawrence Logan …    ┆               ┆                     ┆                     │\n",
            "│ La Guardia     ┆ Miami Intl          ┆ 5725          ┆ 7.361747            ┆ 9.554585            │\n",
            "│ John F Kennedy ┆ Orlando Intl        ┆ 5434          ┆ 10.601583           ┆ 12.789842           │\n",
            "│ Intl           ┆                     ┆               ┆                     ┆                     │\n",
            "│ Newark Liberty ┆ General Edward      ┆ 5251          ┆ 12.54561            ┆ 15.120929           │\n",
            "│ Intl           ┆ Lawrence Logan …    ┆               ┆                     ┆                     │\n",
            "└────────────────┴─────────────────────┴───────────────┴─────────────────────┴─────────────────────┘\n"
          ]
        }
      ]
    }
  ],
  "metadata": {
    "kernelspec": {
      "display_name": "Python 3",
      "language": "python",
      "name": "python3"
    },
    "language_info": {
      "codemirror_mode": {
        "name": "ipython",
        "version": 3
      },
      "file_extension": ".py",
      "mimetype": "text/x-python",
      "name": "python",
      "nbconvert_exporter": "python",
      "pygments_lexer": "ipython3",
      "version": "3.8.0"
    },
    "colab": {
      "provenance": []
    }
  },
  "nbformat": 4,
  "nbformat_minor": 0
}